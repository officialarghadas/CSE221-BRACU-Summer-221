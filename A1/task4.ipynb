{
 "cells": [
  {
   "cell_type": "code",
   "execution_count": 5,
   "metadata": {},
   "outputs": [],
   "source": [
    "def sort_technical(arr, arr2):\n",
    "    for i in range(len(arr) - 1):\n",
    "        count = 0\n",
    "        for j in range(len(arr) - i - 1):\n",
    "            if arr[j].split()[0] > arr[j+1].split()[0]:\n",
    "                arr[j], arr[j + 1] = arr[j + 1], arr[j]\n",
    "                arr2[j], arr2[j + 1] = arr2[j + 1], arr2[j]\n",
    "        count += 1\n",
    "        if count == 0:\n",
    "            break\n",
    "    for i in range(len(arr)-1):\n",
    "        for j in range(len(arr)-1-i):\n",
    "            if arr[j].split()[0] == arr[j+1].split()[0]:\n",
    "                if int(arr2[j][-6:].replace(\":\", \"\")) < int(arr2[j+1][-6:].replace(\":\", \"\")):\n",
    "                    arr[j], arr[j + 1] = arr[j + 1], arr[j]\n",
    "                    arr2[j], arr2[j + 1] = arr2[j + 1], arr2[j]\n",
    "    return arr, arr2\n",
    "\n",
    "with open(\"input4.txt\") as f:\n",
    "    num = int(f.readline())\n",
    "    texts, times = [], []\n",
    "    for i in range(num):\n",
    "        line = f.readline()\n",
    "        texts.append(line[:-6]), times.append(line[-6:])\n",
    "    texts, times = sort_technical(texts, times)\n",
    "\n",
    "    for i in range(num):\n",
    "        with open(\"output4.txt\", \"a+\") as out:\n",
    "            if i == 0:\n",
    "                out.truncate(0)\n",
    "            out.write(f\"{texts[i]}{times[i]}\")\n"
   ]
  }
 ],
 "metadata": {
  "kernelspec": {
   "display_name": "base",
   "language": "python",
   "name": "python3"
  },
  "language_info": {
   "codemirror_mode": {
    "name": "ipython",
    "version": 3
   },
   "file_extension": ".py",
   "mimetype": "text/x-python",
   "name": "python",
   "nbconvert_exporter": "python",
   "pygments_lexer": "ipython3",
   "version": "3.9.7"
  },
  "orig_nbformat": 4
 },
 "nbformat": 4,
 "nbformat_minor": 2
}
