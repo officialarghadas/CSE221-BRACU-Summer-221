{
 "cells": [
  {
   "cell_type": "code",
   "execution_count": 2,
   "metadata": {},
   "outputs": [],
   "source": [
    "def selection_sort(arr, arr2):\n",
    "    for i in range(len(arr)):\n",
    "        idx = i\n",
    "        for j in range(i+1, len(arr)):\n",
    "            if arr[j] > arr[idx]:\n",
    "                idx = j\n",
    "            elif arr[j] == arr[idx]:\n",
    "                if arr2[j] < arr2[idx]:\n",
    "                    idx = j\n",
    "\n",
    "        arr[idx], arr[i] = arr[i], arr[idx]\n",
    "        arr2[idx], arr2[i] = arr2[i], arr2[idx]\n",
    "\n",
    "    return arr, arr2\n",
    "\n",
    "with open(\"input3.txt\") as f:\n",
    "    num = int(f.readline())\n",
    "    ids = [int(i) for i in f.readline().split()]\n",
    "    marks = [int(i) for i in f.readline().split()]\n",
    "    marks, ids = selection_sort(marks, ids)\n",
    "\n",
    "    for i in range(num):\n",
    "        with open(\"output3.txt\", \"a+\") as out:\n",
    "            if i == 0:\n",
    "                out.truncate(0)\n",
    "            out.write(f\"ID: {ids[i]} Mark: {marks[i]}\\n\")"
   ]
  }
 ],
 "metadata": {
  "kernelspec": {
   "display_name": "base",
   "language": "python",
   "name": "python3"
  },
  "language_info": {
   "codemirror_mode": {
    "name": "ipython",
    "version": 3
   },
   "file_extension": ".py",
   "mimetype": "text/x-python",
   "name": "python",
   "nbconvert_exporter": "python",
   "pygments_lexer": "ipython3",
   "version": "3.9.7"
  },
  "orig_nbformat": 4
 },
 "nbformat": 4,
 "nbformat_minor": 2
}
