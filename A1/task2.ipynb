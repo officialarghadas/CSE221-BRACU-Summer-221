{
 "cells": [
  {
   "cell_type": "code",
   "execution_count": 2,
   "metadata": {},
   "outputs": [],
   "source": [
    "def bubble_sort(arr):\n",
    "    for i in range(len(arr) - 1):\n",
    "        count = 0\n",
    "        for j in range(len(arr) - i - 1):\n",
    "            if arr[j] > arr[j+1]:\n",
    "                arr[j], arr[j + 1] = arr[j + 1], arr[j]\n",
    "                count += 1\n",
    "        if count == 0:\n",
    "            return arr\n",
    "    return arr\n",
    "\n",
    "\n",
    "with open(\"input2.txt\") as f:\n",
    "    num = int(f.readline())\n",
    "    val = bubble_sort([int(i) for i in f.readline().split()])\n",
    "\n",
    "    for i in range(num):\n",
    "        with open(\"output2.txt\", \"a+\") as out:\n",
    "            if i == 0:\n",
    "                out.truncate(0)\n",
    "            out.write(f\"{val[i]} \")\n",
    "\n",
    "\n",
    "\n",
    "#the code you provided was using nasted loop.And the the code use theta of n square. and it also use the same time complexity of n square.But the code I am using it is not using nested loop.The maximum complexity will n for this reason and it will stop if it not needed,it means if I give a sorted list the code will not run as it is not needed.  \n"
   ]
  }
 ],
 "metadata": {
  "kernelspec": {
   "display_name": "base",
   "language": "python",
   "name": "python3"
  },
  "language_info": {
   "codemirror_mode": {
    "name": "ipython",
    "version": 3
   },
   "file_extension": ".py",
   "mimetype": "text/x-python",
   "name": "python",
   "nbconvert_exporter": "python",
   "pygments_lexer": "ipython3",
   "version": "3.9.7"
  },
  "orig_nbformat": 4
 },
 "nbformat": 4,
 "nbformat_minor": 2
}
