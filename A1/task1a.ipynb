{
 "cells": [
  {
   "cell_type": "code",
   "execution_count": 2,
   "metadata": {},
   "outputs": [
    {
     "name": "stdout",
     "output_type": "stream",
     "text": [
      "5\n"
     ]
    }
   ],
   "source": [
    "f1=open('input1a.txt','r')\n",
    "f2=open('output1a.txt','w')\n",
    "first_line=f1.readline()\n",
    "T=int(first_line)\n",
    "#print(T)\n",
    "\n",
    "\n",
    "for i in range(T):\n",
    "    current_num=int(f1.readline().strip())\n",
    "    if current_num%2 == 0:\n",
    "        f2.write(f\"{current_num} is a even number.\\n\")\n",
    "    else:\n",
    "        f2.write(f\"{current_num} is a odd number.\\n\")"
   ]
  }
 ],
 "metadata": {
  "kernelspec": {
   "display_name": "base",
   "language": "python",
   "name": "python3"
  },
  "language_info": {
   "codemirror_mode": {
    "name": "ipython",
    "version": 3
   },
   "file_extension": ".py",
   "mimetype": "text/x-python",
   "name": "python",
   "nbconvert_exporter": "python",
   "pygments_lexer": "ipython3",
   "version": "3.9.7"
  },
  "orig_nbformat": 4
 },
 "nbformat": 4,
 "nbformat_minor": 2
}
