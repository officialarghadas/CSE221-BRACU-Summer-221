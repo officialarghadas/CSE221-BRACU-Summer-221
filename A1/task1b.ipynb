{
 "cells": [
  {
   "cell_type": "code",
   "execution_count": 2,
   "metadata": {},
   "outputs": [],
   "source": [
    "with open(\"input1a.txt\") as f:\n",
    "    num = int(f.readline())\n",
    "\n",
    "    for i in range(num):\n",
    "        val= = f.readline()\n",
    "        calc = val=.replace(\"calculate\", \"\")\n",
    "\n",
    "        with open(\"output1b.txt\", \"a+\") as out:\n",
    "            if i == 0:\n",
    "                out.truncate(0)\n",
    "            out.write(f\"The result of {calc.strip()} is {eval(calc)}.\\n\")"
   ]
  }
 ],
 "metadata": {
  "kernelspec": {
   "display_name": "base",
   "language": "python",
   "name": "python3"
  },
  "language_info": {
   "codemirror_mode": {
    "name": "ipython",
    "version": 3
   },
   "file_extension": ".py",
   "mimetype": "text/x-python",
   "name": "python",
   "nbconvert_exporter": "python",
   "pygments_lexer": "ipython3",
   "version": "3.9.7"
  },
  "orig_nbformat": 4
 },
 "nbformat": 4,
 "nbformat_minor": 2
}
